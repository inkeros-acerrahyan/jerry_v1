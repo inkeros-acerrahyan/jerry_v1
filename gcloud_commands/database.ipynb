{
 "cells": [
  {
   "cell_type": "code",
   "execution_count": 47,
   "id": "4bc54a01",
   "metadata": {},
   "outputs": [],
   "source": [
    "# DB Instance Values\n",
    "DB_INSTANCE_NAME = \"jerry-v1-db-instance\"\n",
    "DB_VERSION = \"POSTGRES_17\"\n",
    "CPU = \"1\"\n",
    "MEMORY = \"4gb\"\n",
    "REGION = \"us-central1\"\n",
    "EDITION = \"enterprise\"\n",
    "ROOT_PASS = \"gamalziplockshisfartstomarinateinthefridgebeforereleasingthemintheoffice\"\n",
    "\n",
    "\n",
    "# DB Values\n",
    "PROJECT_NAME = \"ari-dev-463216\"\n",
    "DB_NAME = \"jerry_v1_extracted_db\"\n",
    "PG_DRIVER = \"pg8000\"\n",
    "USER = \"postgres\"\n",
    "PASSWORD = \"gamalziplockshisfartstomarinateinthefridgebeforereleasingthemintheoffice\"\n",
    "CONNECTION_NAME = f\"{PROJECT_NAME}:{REGION}:{DB_INSTANCE_NAME}\"\n",
    "\n",
    "\n",
    "# Bucket Values\n",
    "BUCKET_BASE_URL = \"gs://jerry_v1_upload/\"\n"
   ]
  },
  {
   "cell_type": "code",
   "execution_count": null,
   "id": "b50484ce",
   "metadata": {},
   "outputs": [
    {
     "name": "stdout",
     "output_type": "stream",
     "text": [
      "Creating Cloud SQL instance for POSTGRES_17...done.                            \n",
      "Created [https://sqladmin.googleapis.com/sql/v1beta4/projects/ari-dev-463216/instances/jerry-v1-db-instance].\n",
      "NAME                  DATABASE_VERSION  LOCATION       TIER              PRIMARY_ADDRESS  PRIVATE_ADDRESS  STATUS\n",
      "jerry-v1-db-instance  POSTGRES_17       us-central1-c  db-custom-1-4096  34.59.111.24     -                RUNNABLE\n"
     ]
    }
   ],
   "source": [
    "# Create DB Instance\n",
    "\n",
    "!gcloud sql instances create {DB_INSTANCE_NAME} \\\n",
    "    --database-version={DB_VERSION} \\\n",
    "    --cpu={CPU} \\\n",
    "    --memory={MEMORY} \\\n",
    "    --region={REGION} \\\n",
    "    --edition={EDITION} \\\n",
    "    --root-password={ROOT_PASS}\n"
   ]
  },
  {
   "cell_type": "code",
   "execution_count": null,
   "id": "538f152f",
   "metadata": {},
   "outputs": [
    {
     "name": "stdout",
     "output_type": "stream",
     "text": [
      "Deleting Cloud SQL instance...done.                                            \n",
      "Deleted [https://sqladmin.googleapis.com/sql/v1beta4/projects/ari-dev-463216/instances/jerry-v1-db-instance].\n"
     ]
    }
   ],
   "source": [
    "# Delete DB Instance\n",
    "# NOTE: this command requires a user input which can't be done in this file\n",
    "#       the `-q` flag overides it\n",
    "!gcloud sql instances delete {DB_INSTANCE_NAME} -q"
   ]
  },
  {
   "cell_type": "code",
   "execution_count": null,
   "id": "888a7a2b",
   "metadata": {},
   "outputs": [
    {
     "name": "stdout",
     "output_type": "stream",
     "text": [
      "NAME                  DATABASE_VERSION  LOCATION       TIER              PRIMARY_ADDRESS  PRIVATE_ADDRESS  STATUS\n",
      "jerry-v1-db-instance  POSTGRES_17       us-central1-c  db-custom-1-4096  34.59.111.24     -                RUNNABLE\n"
     ]
    }
   ],
   "source": [
    "# List DB Instance\n",
    "\n",
    "!gcloud sql instances list --filter=\"name~{DB_INSTANCE_NAME}\""
   ]
  },
  {
   "cell_type": "code",
   "execution_count": 37,
   "id": "006587c3",
   "metadata": {},
   "outputs": [
    {
     "name": "stdout",
     "output_type": "stream",
     "text": [
      "Creating Cloud SQL database...done.                                            \n",
      "Created database [jerry_v1_extracted_db].\n",
      "instance: jerry-v1-db-instance\n",
      "name: jerry_v1_extracted_db\n",
      "project: ari-dev-463216\n"
     ]
    }
   ],
   "source": [
    "# Create DB\n",
    "!gcloud sql databases create {DB_NAME} -i={DB_INSTANCE_NAME}"
   ]
  },
  {
   "cell_type": "code",
   "execution_count": 34,
   "id": "626acda5",
   "metadata": {},
   "outputs": [
    {
     "name": "stdout",
     "output_type": "stream",
     "text": [
      "Deleting Cloud SQL database...done.                                            \n",
      "Deleted database [jerry_v1_extracted_db].\n"
     ]
    }
   ],
   "source": [
    "# Delete DB\n",
    "# NOTE: this command requires a user input which can't be done in this file\n",
    "#       the `-q` flag overides it\n",
    "!gcloud sql databases delete {DB_NAME} -i={DB_INSTANCE_NAME} -q"
   ]
  },
  {
   "cell_type": "code",
   "execution_count": 38,
   "id": "2e60cccc",
   "metadata": {},
   "outputs": [
    {
     "name": "stdout",
     "output_type": "stream",
     "text": [
      "NAME                   CHARSET  COLLATION\n",
      "postgres               UTF8     en_US.UTF8\n",
      "jerry_v1_extracted_db  UTF8     en_US.UTF8\n"
     ]
    }
   ],
   "source": [
    "# List DB\n",
    "!gcloud sql databases list -i={DB_INSTANCE_NAME}"
   ]
  },
  {
   "cell_type": "code",
   "execution_count": 39,
   "id": "85e9a954",
   "metadata": {},
   "outputs": [
    {
     "name": "stdout",
     "output_type": "stream",
     "text": [
      "Table created / already exists\n"
     ]
    }
   ],
   "source": [
    "# Create DB Tables\n",
    "from google.cloud.sql.connector import Connector\n",
    "\n",
    "CREATE_TABLE_QUERY = \"\"\"\n",
    "    CREATE TABLE IF NOT EXISTS orders (\n",
    "        order_id BIGINT PRIMARY KEY,\n",
    "        client_name TEXT NOT NULL,\n",
    "        client_address TEXT NOT NULL,\n",
    "        created_at TIMESTAMP DEFAULT CURRENT_TIMESTAMP\n",
    "    );\n",
    "    \"\"\"\n",
    "\n",
    "connector = Connector()\n",
    "conn = connector.connect(\n",
    "    CONNECTION_NAME,\n",
    "    PG_DRIVER,\n",
    "    user=USER,\n",
    "    password=PASSWORD,\n",
    "    db=DB_NAME\n",
    ")\n",
    "\n",
    "try:\n",
    "    cur = conn.cursor()\n",
    "    cur.execute(CREATE_TABLE_QUERY)\n",
    "    conn.commit()\n",
    "    print(\"Table created / already exists\")\n",
    "except Exception as e:\n",
    "    print(f\"Query Failed\\nERROR: {e}\")\n",
    "\n",
    "except Exception as e:\n",
    "    print(f\"Connection Failed\\nERROR: {e}\")\n",
    "finally:\n",
    "    if cur is not None:\n",
    "        cur.close()\n",
    "    if conn is not None:\n",
    "        conn.close()"
   ]
  },
  {
   "cell_type": "code",
   "execution_count": null,
   "id": "c0ee0c84",
   "metadata": {},
   "outputs": [
    {
     "name": "stdout",
     "output_type": "stream",
     "text": [
      "failed/\n",
      "processing/\n",
      "succeded/\n",
      "to_process/\n"
     ]
    }
   ],
   "source": [
    "# List all folders in bucket\n",
    "!gcloud storage folders list {BUCKET_BASE_URL} --format=\"value(name)\""
   ]
  }
 ],
 "metadata": {
  "kernelspec": {
   "display_name": "jerry_source (3.12.3)",
   "language": "python",
   "name": "python3"
  },
  "language_info": {
   "codemirror_mode": {
    "name": "ipython",
    "version": 3
   },
   "file_extension": ".py",
   "mimetype": "text/x-python",
   "name": "python",
   "nbconvert_exporter": "python",
   "pygments_lexer": "ipython3",
   "version": "3.12.3"
  }
 },
 "nbformat": 4,
 "nbformat_minor": 5
}
